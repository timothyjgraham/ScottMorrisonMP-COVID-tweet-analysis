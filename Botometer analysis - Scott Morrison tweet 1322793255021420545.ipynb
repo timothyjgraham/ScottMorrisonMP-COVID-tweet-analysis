{
 "cells": [
  {
   "cell_type": "markdown",
   "metadata": {},
   "source": [
    "## Set up API credentials to collect botometer scores"
   ]
  },
  {
   "cell_type": "code",
   "execution_count": 1,
   "metadata": {},
   "outputs": [],
   "source": [
    "import botometer\n",
    "\n",
    "rapidapi_key = \"YOUR KEY HERE\"\n",
    "\n",
    "twitter_app_auth = {\n",
    "    'consumer_key': 'YOUR KEY HERE',\n",
    "    'consumer_secret': 'YOUR KEY HERE',\n",
    "    'access_token': 'YOUR KEY HERE',\n",
    "    'access_token_secret': 'YOUR KEY HERE',\n",
    "  }\n",
    "\n",
    "bom = botometer.Botometer(wait_on_ratelimit=True,\n",
    "                          rapidapi_key=rapidapi_key,\n",
    "                          **twitter_app_auth)"
   ]
  },
  {
   "cell_type": "code",
   "execution_count": 2,
   "metadata": {},
   "outputs": [],
   "source": [
    "import pandas as pd"
   ]
  },
  {
   "cell_type": "markdown",
   "metadata": {},
   "source": [
    "## Batch 1 "
   ]
  },
  {
   "cell_type": "code",
   "execution_count": 3,
   "metadata": {},
   "outputs": [],
   "source": [
    "most_frequent_users_istandwithdan = open(\"/Users/grahamtj/Documents/Research/2020/Victoria_COVID/ratioed_morrison/likes_scraped_manually_statusID_1322793255021420545.txt\")\n",
    "file_contents = most_frequent_users_istandwithdan.read()\n",
    "contents_split = file_contents.splitlines()"
   ]
  },
  {
   "cell_type": "code",
   "execution_count": 7,
   "metadata": {},
   "outputs": [],
   "source": [
    "# remove duplicates \n",
    "contents_split = list(dict.fromkeys(contents_split))\n",
    "len(contents_split)"
   ]
  },
  {
   "cell_type": "code",
   "execution_count": 9,
   "metadata": {},
   "outputs": [],
   "source": [
    "# set 1\n",
    "users_set1_istandwithdan_bot_scores = []\n",
    "\n",
    "for screen_name, result in bom.check_accounts_in(contents_split):\n",
    "    users_set1_istandwithdan_bot_scores.append([screen_name,result])\n",
    "    \n",
    "with open(\"/Users/grahamtj/Documents/Research/2020/Victoria_COVID/ratioed_morrison/botometer_scores_morrison_tweet_1322793255021420545.txt\", 'w') as output:\n",
    "    for row in users_set1_istandwithdan_bot_scores:\n",
    "        output.write(str(row) + '\\n')"
   ]
  },
  {
   "cell_type": "markdown",
   "metadata": {},
   "source": [
    "## Batch 2"
   ]
  },
  {
   "cell_type": "code",
   "execution_count": 23,
   "metadata": {},
   "outputs": [
    {
     "data": {
      "text/plain": [
       "25"
      ]
     },
     "execution_count": 23,
     "metadata": {},
     "output_type": "execute_result"
    }
   ],
   "source": [
    "most_frequent_users_istandwithdan_batch2 = open(\"/Users/grahamtj/Documents/Research/2020/Victoria_COVID/ratioed_morrison/likes_scraped_manually_statusID_1322793255021420545_batch2.txt\")\n",
    "file_contents_batch2 = most_frequent_users_istandwithdan_batch2.read()\n",
    "contents_split_batch2 = file_contents_batch2.splitlines()\n",
    "\n",
    "# remove duplicates \n",
    "contents_split_batch2 = list(dict.fromkeys(contents_split_batch2))\n",
    "len(contents_split_batch2)"
   ]
  },
  {
   "cell_type": "code",
   "execution_count": 24,
   "metadata": {},
   "outputs": [],
   "source": [
    "# set 2\n",
    "users_set2_istandwithdan_bot_scores = []\n",
    "\n",
    "for screen_name, result in bom.check_accounts_in(contents_split_batch2):\n",
    "    users_set2_istandwithdan_bot_scores.append([screen_name,result])\n",
    "    \n",
    "with open(\"/Users/grahamtj/Documents/Research/2020/Victoria_COVID/ratioed_morrison/botometer_scores_morrison_tweet_1322793255021420545_batch2.txt\", 'w') as output:\n",
    "    for row in users_set2_istandwithdan_bot_scores:\n",
    "        output.write(str(row) + '\\n')"
   ]
  },
  {
   "cell_type": "markdown",
   "metadata": {},
   "source": [
    "## Combine results into single dataframe "
   ]
  },
  {
   "cell_type": "code",
   "execution_count": 25,
   "metadata": {},
   "outputs": [],
   "source": [
    "# We need to parse the results and store in a dataframe\n",
    "istandwithdan_all_scores = []\n",
    "\n",
    "for i in range(1, 100):\n",
    "    try:\n",
    "        istandwithdan_all_scores.append([users_set1_istandwithdan_bot_scores[i][0],\n",
    "                                         users_set1_istandwithdan_bot_scores[i][1].get(\"cap\").get(\"english\"),\n",
    "                                         users_set1_istandwithdan_bot_scores[i][1].get(\"cap\").get(\"universal\"),\n",
    "                                         '1322793255021420545'])\n",
    "    except:\n",
    "        continue\n",
    "        \n",
    "for i in range(1, 100):\n",
    "    try:\n",
    "        istandwithdan_all_scores.append([users_set2_istandwithdan_bot_scores[i][0],\n",
    "                                         users_set2_istandwithdan_bot_scores[i][1].get(\"cap\").get(\"english\"),\n",
    "                                         users_set2_istandwithdan_bot_scores[i][1].get(\"cap\").get(\"universal\"),\n",
    "                                         '1322793255021420545'])\n",
    "    except:\n",
    "        continue"
   ]
  },
  {
   "cell_type": "code",
   "execution_count": 26,
   "metadata": {},
   "outputs": [],
   "source": [
    "istandwithdan_all_scores_DF = pd.DataFrame(istandwithdan_all_scores)\n",
    "istandwithdan_all_scores_DF.columns = ['user_ID', 'CAP_english', 'CAP_universal', 'tweet_ID']"
   ]
  },
  {
   "cell_type": "code",
   "execution_count": 27,
   "metadata": {},
   "outputs": [
    {
     "data": {
      "text/html": [
       "<div>\n",
       "<style scoped>\n",
       "    .dataframe tbody tr th:only-of-type {\n",
       "        vertical-align: middle;\n",
       "    }\n",
       "\n",
       "    .dataframe tbody tr th {\n",
       "        vertical-align: top;\n",
       "    }\n",
       "\n",
       "    .dataframe thead th {\n",
       "        text-align: right;\n",
       "    }\n",
       "</style>\n",
       "<table border=\"1\" class=\"dataframe\">\n",
       "  <thead>\n",
       "    <tr style=\"text-align: right;\">\n",
       "      <th></th>\n",
       "      <th>user_ID</th>\n",
       "      <th>CAP_english</th>\n",
       "      <th>CAP_universal</th>\n",
       "      <th>tweet_ID</th>\n",
       "    </tr>\n",
       "  </thead>\n",
       "  <tbody>\n",
       "    <tr>\n",
       "      <th>0</th>\n",
       "      <td>@BrucePoon</td>\n",
       "      <td>0.362646</td>\n",
       "      <td>0.346921</td>\n",
       "      <td>1322793255021420545</td>\n",
       "    </tr>\n",
       "    <tr>\n",
       "      <th>1</th>\n",
       "      <td>@connor_keir</td>\n",
       "      <td>0.676362</td>\n",
       "      <td>0.773346</td>\n",
       "      <td>1322793255021420545</td>\n",
       "    </tr>\n",
       "    <tr>\n",
       "      <th>2</th>\n",
       "      <td>@almarty</td>\n",
       "      <td>0.306188</td>\n",
       "      <td>0.522240</td>\n",
       "      <td>1322793255021420545</td>\n",
       "    </tr>\n",
       "    <tr>\n",
       "      <th>3</th>\n",
       "      <td>@SNoorbergen</td>\n",
       "      <td>0.797782</td>\n",
       "      <td>0.805768</td>\n",
       "      <td>1322793255021420545</td>\n",
       "    </tr>\n",
       "    <tr>\n",
       "      <th>4</th>\n",
       "      <td>@Kj38676057</td>\n",
       "      <td>0.867012</td>\n",
       "      <td>0.813043</td>\n",
       "      <td>1322793255021420545</td>\n",
       "    </tr>\n",
       "  </tbody>\n",
       "</table>\n",
       "</div>"
      ],
      "text/plain": [
       "        user_ID  CAP_english  CAP_universal             tweet_ID\n",
       "0    @BrucePoon     0.362646       0.346921  1322793255021420545\n",
       "1  @connor_keir     0.676362       0.773346  1322793255021420545\n",
       "2      @almarty     0.306188       0.522240  1322793255021420545\n",
       "3  @SNoorbergen     0.797782       0.805768  1322793255021420545\n",
       "4   @Kj38676057     0.867012       0.813043  1322793255021420545"
      ]
     },
     "execution_count": 27,
     "metadata": {},
     "output_type": "execute_result"
    }
   ],
   "source": [
    "istandwithdan_all_scores_DF.head()"
   ]
  },
  {
   "cell_type": "code",
   "execution_count": 28,
   "metadata": {},
   "outputs": [
    {
     "data": {
      "text/plain": [
       "(72, 4)"
      ]
     },
     "execution_count": 28,
     "metadata": {},
     "output_type": "execute_result"
    }
   ],
   "source": [
    "istandwithdan_all_scores_DF.shape"
   ]
  },
  {
   "cell_type": "code",
   "execution_count": 29,
   "metadata": {},
   "outputs": [
    {
     "data": {
      "text/html": [
       "<div>\n",
       "<style scoped>\n",
       "    .dataframe tbody tr th:only-of-type {\n",
       "        vertical-align: middle;\n",
       "    }\n",
       "\n",
       "    .dataframe tbody tr th {\n",
       "        vertical-align: top;\n",
       "    }\n",
       "\n",
       "    .dataframe thead th {\n",
       "        text-align: right;\n",
       "    }\n",
       "</style>\n",
       "<table border=\"1\" class=\"dataframe\">\n",
       "  <thead>\n",
       "    <tr style=\"text-align: right;\">\n",
       "      <th></th>\n",
       "      <th>CAP_english</th>\n",
       "      <th>CAP_universal</th>\n",
       "    </tr>\n",
       "  </thead>\n",
       "  <tbody>\n",
       "    <tr>\n",
       "      <th>count</th>\n",
       "      <td>72.000000</td>\n",
       "      <td>72.000000</td>\n",
       "    </tr>\n",
       "    <tr>\n",
       "      <th>mean</th>\n",
       "      <td>0.645466</td>\n",
       "      <td>0.667889</td>\n",
       "    </tr>\n",
       "    <tr>\n",
       "      <th>std</th>\n",
       "      <td>0.219616</td>\n",
       "      <td>0.207674</td>\n",
       "    </tr>\n",
       "    <tr>\n",
       "      <th>min</th>\n",
       "      <td>0.000000</td>\n",
       "      <td>0.233324</td>\n",
       "    </tr>\n",
       "    <tr>\n",
       "      <th>25%</th>\n",
       "      <td>0.447947</td>\n",
       "      <td>0.522240</td>\n",
       "    </tr>\n",
       "    <tr>\n",
       "      <th>50%</th>\n",
       "      <td>0.738478</td>\n",
       "      <td>0.770384</td>\n",
       "    </tr>\n",
       "    <tr>\n",
       "      <th>75%</th>\n",
       "      <td>0.797302</td>\n",
       "      <td>0.806896</td>\n",
       "    </tr>\n",
       "    <tr>\n",
       "      <th>max</th>\n",
       "      <td>1.000000</td>\n",
       "      <td>1.000000</td>\n",
       "    </tr>\n",
       "  </tbody>\n",
       "</table>\n",
       "</div>"
      ],
      "text/plain": [
       "       CAP_english  CAP_universal\n",
       "count    72.000000      72.000000\n",
       "mean      0.645466       0.667889\n",
       "std       0.219616       0.207674\n",
       "min       0.000000       0.233324\n",
       "25%       0.447947       0.522240\n",
       "50%       0.738478       0.770384\n",
       "75%       0.797302       0.806896\n",
       "max       1.000000       1.000000"
      ]
     },
     "execution_count": 29,
     "metadata": {},
     "output_type": "execute_result"
    }
   ],
   "source": [
    "istandwithdan_all_scores_DF.describe()"
   ]
  },
  {
   "cell_type": "code",
   "execution_count": 39,
   "metadata": {},
   "outputs": [
    {
     "data": {
      "text/plain": [
       "3"
      ]
     },
     "execution_count": 39,
     "metadata": {},
     "output_type": "execute_result"
    }
   ],
   "source": [
    "# If we set 90% as the minimum threshold, how many bots?\n",
    "istandwithdan_all_scores_DF['user_ID'][istandwithdan_all_scores_DF['CAP_english'] > 0.9].count() # for the 'English' score "
   ]
  },
  {
   "cell_type": "code",
   "execution_count": 43,
   "metadata": {},
   "outputs": [
    {
     "data": {
      "text/plain": [
       "4          @Kj38676057\n",
       "11     @Dochez29935725\n",
       "20         @baxr6turbo\n",
       "22         @MalkawiYaz\n",
       "24       @DograShwetaa\n",
       "29          @swthmalbm\n",
       "52      @richardreade9\n",
       "53       @FayP14091299\n",
       "56        @Msa87079318\n",
       "60         @jennie0625\n",
       "63    @myerschrismyer1\n",
       "64            @1RAMROY\n",
       "65       @Tina77672726\n",
       "67      @CgovSolutions\n",
       "70     @jeevan60131093\n",
       "Name: user_ID, dtype: object"
      ]
     },
     "execution_count": 43,
     "metadata": {},
     "output_type": "execute_result"
    }
   ],
   "source": [
    "# what are the names of accounts with score greater than 0.9?\n",
    "istandwithdan_all_scores_DF['user_ID'][istandwithdan_all_scores_DF['CAP_english'] > 0.8]"
   ]
  },
  {
   "cell_type": "code",
   "execution_count": 33,
   "metadata": {},
   "outputs": [
    {
     "data": {
      "image/png": "[encoded data removed]",
      "text/plain": [
       "<Figure size 864x576 with 1 Axes>"
      ]
     },
     "metadata": {
      "needs_background": "light"
     },
     "output_type": "display_data"
    }
   ],
   "source": [
    "# box plot \n",
    "\n",
    "import numpy as np\n",
    "import pandas as pd\n",
    "import seaborn as sns\n",
    "import matplotlib.pyplot as plt\n",
    "\n",
    "istandwithdan_all_scores_DF.boxplot(column='CAP_english')\n",
    "fig_size = plt.gcf().get_size_inches() #Get current size\n",
    "sizefactor = 2 #Set a zoom factor\n",
    "# Modify the current size by the factor\n",
    "plt.gcf().set_size_inches(sizefactor * fig_size) "
   ]
  },
  {
   "cell_type": "code",
   "execution_count": 34,
   "metadata": {},
   "outputs": [
    {
     "data": {
      "text/plain": [
       "Text(0, 0.5, 'Fraction of data')"
      ]
     },
     "execution_count": 34,
     "metadata": {},
     "output_type": "execute_result"
    },
    {
     "data": {
      "image/png": "[encoded data removed]",
      "text/plain": [
       "<Figure size 864x576 with 1 Axes>"
      ]
     },
     "metadata": {
      "needs_background": "light"
     },
     "output_type": "display_data"
    }
   ],
   "source": [
    "# visualise the bot scores\n",
    "import numpy as np\n",
    "import pandas as pd\n",
    "import seaborn as sns\n",
    "import matplotlib.pyplot as plt\n",
    "\n",
    "def ecdf(data):\n",
    "    \"\"\" Compute ECDF \"\"\"\n",
    "    x = np.sort(data)\n",
    "    n = x.size\n",
    "    y = np.arange(1, n+1) / n\n",
    "    return(x,y)\n",
    "\n",
    "x,y = ecdf(istandwithdan_all_scores_DF['CAP_english'])\n",
    "plt.scatter(x=x, y=y, color='blue')\n",
    "\n",
    "fig_size = plt.gcf().get_size_inches() #Get current size\n",
    "sizefactor = 2 #Set a zoom factor\n",
    "# Modify the current size by the factor\n",
    "plt.gcf().set_size_inches(sizefactor * fig_size) \n",
    "\n",
    "plt.suptitle('ECDF of Botometer scores \\n(accounts that liked tweet ID: 1322793255021420545)', fontsize=20)\n",
    "plt.xlabel('Completely Automated Probability score (English)', fontsize=18)\n",
    "plt.ylabel('Fraction of data', fontsize=18)"
   ]
  },
  {
   "cell_type": "markdown",
   "metadata": {},
   "source": [
    "## Collect all replies using twarc"
   ]
  },
  {
   "cell_type": "code",
   "execution_count": null,
   "metadata": {},
   "outputs": [],
   "source": [
    "# We collect the replies using the 'twarc' module, \n",
    "# but we need to run this separately *in the command line* using the following command:\n",
    "# (note the tweet ID to specify which tweet replies to collect).\n",
    "\n",
    "# twarc replies 1322793255021420545 --recursive > replies_1322793255021420545.jsonl"
   ]
  },
  {
   "cell_type": "markdown",
   "metadata": {},
   "source": [
    "## Sentiment analysis "
   ]
  },
  {
   "cell_type": "code",
   "execution_count": 3,
   "metadata": {},
   "outputs": [],
   "source": [
    "# need to import data\n",
    "import pandas as pd\n",
    "replies_data = pd.read_json (r'replies_1322793255021420545.jsonl', lines=True)"
   ]
  },
  {
   "cell_type": "code",
   "execution_count": 4,
   "metadata": {},
   "outputs": [
    {
     "data": {
      "text/html": [
       "<div>\n",
       "<style scoped>\n",
       "    .dataframe tbody tr th:only-of-type {\n",
       "        vertical-align: middle;\n",
       "    }\n",
       "\n",
       "    .dataframe tbody tr th {\n",
       "        vertical-align: top;\n",
       "    }\n",
       "\n",
       "    .dataframe thead th {\n",
       "        text-align: right;\n",
       "    }\n",
       "</style>\n",
       "<table border=\"1\" class=\"dataframe\">\n",
       "  <thead>\n",
       "    <tr style=\"text-align: right;\">\n",
       "      <th></th>\n",
       "      <th>created_at</th>\n",
       "      <th>id</th>\n",
       "      <th>id_str</th>\n",
       "      <th>full_text</th>\n",
       "      <th>truncated</th>\n",
       "      <th>display_text_range</th>\n",
       "      <th>entities</th>\n",
       "      <th>source</th>\n",
       "      <th>in_reply_to_status_id</th>\n",
       "      <th>in_reply_to_status_id_str</th>\n",
       "      <th>...</th>\n",
       "      <th>quoted_status_permalink</th>\n",
       "      <th>quoted_status</th>\n",
       "      <th>retweet_count</th>\n",
       "      <th>favorite_count</th>\n",
       "      <th>favorited</th>\n",
       "      <th>retweeted</th>\n",
       "      <th>possibly_sensitive</th>\n",
       "      <th>lang</th>\n",
       "      <th>metadata</th>\n",
       "      <th>extended_entities</th>\n",
       "    </tr>\n",
       "  </thead>\n",
       "  <tbody>\n",
       "    <tr>\n",
       "      <th>0</th>\n",
       "      <td>2020-11-01 06:51:02+00:00</td>\n",
       "      <td>1322793255021420545</td>\n",
       "      <td>1322793255021420544</td>\n",
       "      <td>Well done Australia. How good! Let’s keep it t...</td>\n",
       "      <td>False</td>\n",
       "      <td>[0, 160]</td>\n",
       "      <td>{'hashtags': [], 'symbols': [], 'user_mentions...</td>\n",
       "      <td>&lt;a href=\"http://twitter.com/download/iphone\" r...</td>\n",
       "      <td>NaN</td>\n",
       "      <td>NaN</td>\n",
       "      <td>...</td>\n",
       "      <td>{'url': 'https://t.co/WcL4VytvJL', 'expanded':...</td>\n",
       "      <td>{'created_at': 'Sun Nov 01 01:44:31 +0000 2020...</td>\n",
       "      <td>295</td>\n",
       "      <td>3112</td>\n",
       "      <td>False</td>\n",
       "      <td>False</td>\n",
       "      <td>0.0</td>\n",
       "      <td>en</td>\n",
       "      <td>NaN</td>\n",
       "      <td>NaN</td>\n",
       "    </tr>\n",
       "    <tr>\n",
       "      <th>1</th>\n",
       "      <td>2020-11-02 00:45:49+00:00</td>\n",
       "      <td>1323063731123679232</td>\n",
       "      <td>1323063731123679232</td>\n",
       "      <td>@ScottMorrisonMP So what are YOU doing to fix ...</td>\n",
       "      <td>False</td>\n",
       "      <td>[17, 128]</td>\n",
       "      <td>{'hashtags': [], 'symbols': [], 'user_mentions...</td>\n",
       "      <td>&lt;a href=\"http://twitter.com/download/android\" ...</td>\n",
       "      <td>1.322793e+18</td>\n",
       "      <td>1.322793e+18</td>\n",
       "      <td>...</td>\n",
       "      <td>NaN</td>\n",
       "      <td>NaN</td>\n",
       "      <td>0</td>\n",
       "      <td>0</td>\n",
       "      <td>False</td>\n",
       "      <td>False</td>\n",
       "      <td>NaN</td>\n",
       "      <td>en</td>\n",
       "      <td>{'iso_language_code': 'en', 'result_type': 're...</td>\n",
       "      <td>NaN</td>\n",
       "    </tr>\n",
       "    <tr>\n",
       "      <th>2</th>\n",
       "      <td>2020-11-02 00:44:37+00:00</td>\n",
       "      <td>1323063427607142401</td>\n",
       "      <td>1323063427607142400</td>\n",
       "      <td>@ScottMorrisonMP Well stop telling people to o...</td>\n",
       "      <td>False</td>\n",
       "      <td>[17, 73]</td>\n",
       "      <td>{'hashtags': [], 'symbols': [], 'user_mentions...</td>\n",
       "      <td>&lt;a href=\"http://twitter.com/download/iphone\" r...</td>\n",
       "      <td>1.322793e+18</td>\n",
       "      <td>1.322793e+18</td>\n",
       "      <td>...</td>\n",
       "      <td>NaN</td>\n",
       "      <td>NaN</td>\n",
       "      <td>0</td>\n",
       "      <td>0</td>\n",
       "      <td>False</td>\n",
       "      <td>False</td>\n",
       "      <td>NaN</td>\n",
       "      <td>en</td>\n",
       "      <td>{'iso_language_code': 'en', 'result_type': 're...</td>\n",
       "      <td>NaN</td>\n",
       "    </tr>\n",
       "    <tr>\n",
       "      <th>3</th>\n",
       "      <td>2020-11-02 00:44:29+00:00</td>\n",
       "      <td>1323063397374590977</td>\n",
       "      <td>1323063397374590976</td>\n",
       "      <td>@ScottMorrisonMP https://t.co/c1pVOWpThP</td>\n",
       "      <td>False</td>\n",
       "      <td>[16, 16]</td>\n",
       "      <td>{'hashtags': [], 'symbols': [], 'user_mentions...</td>\n",
       "      <td>&lt;a href=\"http://twitter.com/download/iphone\" r...</td>\n",
       "      <td>1.322793e+18</td>\n",
       "      <td>1.322793e+18</td>\n",
       "      <td>...</td>\n",
       "      <td>NaN</td>\n",
       "      <td>NaN</td>\n",
       "      <td>0</td>\n",
       "      <td>0</td>\n",
       "      <td>False</td>\n",
       "      <td>False</td>\n",
       "      <td>0.0</td>\n",
       "      <td>und</td>\n",
       "      <td>{'iso_language_code': 'und', 'result_type': 'r...</td>\n",
       "      <td>{'media': [{'id': 1323063387882885120, 'id_str...</td>\n",
       "    </tr>\n",
       "    <tr>\n",
       "      <th>4</th>\n",
       "      <td>2020-11-02 00:43:52+00:00</td>\n",
       "      <td>1323063239228461059</td>\n",
       "      <td>1323063239228461056</td>\n",
       "      <td>@ScottMorrisonMP Stay safe</td>\n",
       "      <td>False</td>\n",
       "      <td>[17, 26]</td>\n",
       "      <td>{'hashtags': [], 'symbols': [], 'user_mentions...</td>\n",
       "      <td>&lt;a href=\"http://twitter.com/download/iphone\" r...</td>\n",
       "      <td>1.322793e+18</td>\n",
       "      <td>1.322793e+18</td>\n",
       "      <td>...</td>\n",
       "      <td>NaN</td>\n",
       "      <td>NaN</td>\n",
       "      <td>0</td>\n",
       "      <td>0</td>\n",
       "      <td>False</td>\n",
       "      <td>False</td>\n",
       "      <td>NaN</td>\n",
       "      <td>en</td>\n",
       "      <td>{'iso_language_code': 'en', 'result_type': 're...</td>\n",
       "      <td>NaN</td>\n",
       "    </tr>\n",
       "  </tbody>\n",
       "</table>\n",
       "<p>5 rows × 31 columns</p>\n",
       "</div>"
      ],
      "text/plain": [
       "                 created_at                   id               id_str  \\\n",
       "0 2020-11-01 06:51:02+00:00  1322793255021420545  1322793255021420544   \n",
       "1 2020-11-02 00:45:49+00:00  1323063731123679232  1323063731123679232   \n",
       "2 2020-11-02 00:44:37+00:00  1323063427607142401  1323063427607142400   \n",
       "3 2020-11-02 00:44:29+00:00  1323063397374590977  1323063397374590976   \n",
       "4 2020-11-02 00:43:52+00:00  1323063239228461059  1323063239228461056   \n",
       "\n",
       "                                           full_text  truncated  \\\n",
       "0  Well done Australia. How good! Let’s keep it t...      False   \n",
       "1  @ScottMorrisonMP So what are YOU doing to fix ...      False   \n",
       "2  @ScottMorrisonMP Well stop telling people to o...      False   \n",
       "3           @ScottMorrisonMP https://t.co/c1pVOWpThP      False   \n",
       "4                         @ScottMorrisonMP Stay safe      False   \n",
       "\n",
       "  display_text_range                                           entities  \\\n",
       "0           [0, 160]  {'hashtags': [], 'symbols': [], 'user_mentions...   \n",
       "1          [17, 128]  {'hashtags': [], 'symbols': [], 'user_mentions...   \n",
       "2           [17, 73]  {'hashtags': [], 'symbols': [], 'user_mentions...   \n",
       "3           [16, 16]  {'hashtags': [], 'symbols': [], 'user_mentions...   \n",
       "4           [17, 26]  {'hashtags': [], 'symbols': [], 'user_mentions...   \n",
       "\n",
       "                                              source  in_reply_to_status_id  \\\n",
       "0  <a href=\"http://twitter.com/download/iphone\" r...                    NaN   \n",
       "1  <a href=\"http://twitter.com/download/android\" ...           1.322793e+18   \n",
       "2  <a href=\"http://twitter.com/download/iphone\" r...           1.322793e+18   \n",
       "3  <a href=\"http://twitter.com/download/iphone\" r...           1.322793e+18   \n",
       "4  <a href=\"http://twitter.com/download/iphone\" r...           1.322793e+18   \n",
       "\n",
       "   in_reply_to_status_id_str  ...  \\\n",
       "0                        NaN  ...   \n",
       "1               1.322793e+18  ...   \n",
       "2               1.322793e+18  ...   \n",
       "3               1.322793e+18  ...   \n",
       "4               1.322793e+18  ...   \n",
       "\n",
       "                             quoted_status_permalink  \\\n",
       "0  {'url': 'https://t.co/WcL4VytvJL', 'expanded':...   \n",
       "1                                                NaN   \n",
       "2                                                NaN   \n",
       "3                                                NaN   \n",
       "4                                                NaN   \n",
       "\n",
       "                                       quoted_status retweet_count  \\\n",
       "0  {'created_at': 'Sun Nov 01 01:44:31 +0000 2020...           295   \n",
       "1                                                NaN             0   \n",
       "2                                                NaN             0   \n",
       "3                                                NaN             0   \n",
       "4                                                NaN             0   \n",
       "\n",
       "  favorite_count  favorited  retweeted possibly_sensitive  lang  \\\n",
       "0           3112      False      False                0.0    en   \n",
       "1              0      False      False                NaN    en   \n",
       "2              0      False      False                NaN    en   \n",
       "3              0      False      False                0.0   und   \n",
       "4              0      False      False                NaN    en   \n",
       "\n",
       "                                            metadata  \\\n",
       "0                                                NaN   \n",
       "1  {'iso_language_code': 'en', 'result_type': 're...   \n",
       "2  {'iso_language_code': 'en', 'result_type': 're...   \n",
       "3  {'iso_language_code': 'und', 'result_type': 'r...   \n",
       "4  {'iso_language_code': 'en', 'result_type': 're...   \n",
       "\n",
       "                                   extended_entities  \n",
       "0                                                NaN  \n",
       "1                                                NaN  \n",
       "2                                                NaN  \n",
       "3  {'media': [{'id': 1323063387882885120, 'id_str...  \n",
       "4                                                NaN  \n",
       "\n",
       "[5 rows x 31 columns]"
      ]
     },
     "execution_count": 4,
     "metadata": {},
     "output_type": "execute_result"
    }
   ],
   "source": [
    "replies_data.head()"
   ]
  },
  {
   "cell_type": "code",
   "execution_count": 5,
   "metadata": {},
   "outputs": [
    {
     "data": {
      "text/plain": [
       "(806, 31)"
      ]
     },
     "execution_count": 5,
     "metadata": {},
     "output_type": "execute_result"
    }
   ],
   "source": [
    "replies_data.shape"
   ]
  },
  {
   "cell_type": "code",
   "execution_count": 6,
   "metadata": {},
   "outputs": [],
   "source": [
    "from vaderSentiment.vaderSentiment import SentimentIntensityAnalyzer\n",
    "analyser = SentimentIntensityAnalyzer()"
   ]
  },
  {
   "cell_type": "code",
   "execution_count": 7,
   "metadata": {},
   "outputs": [],
   "source": [
    "# calculate for all texts in dataset\n",
    "\n",
    "sentiment_scores = []\n",
    "\n",
    "for text in replies_data['full_text']:\n",
    "    try:\n",
    "        sentiment_scores.append(analyser.polarity_scores(text))\n",
    "    except:\n",
    "        sentiment_scores.append({'neg': 999, 'neu': 999, 'pos': 999, 'compound': 999})"
   ]
  },
  {
   "cell_type": "code",
   "execution_count": 9,
   "metadata": {},
   "outputs": [],
   "source": [
    "sentiment_compound_scores = [item['compound'] for item in sentiment_scores]"
   ]
  },
  {
   "cell_type": "code",
   "execution_count": 10,
   "metadata": {},
   "outputs": [],
   "source": [
    "replies_data['compound_sentiment_score'] = sentiment_compound_scores"
   ]
  },
  {
   "cell_type": "code",
   "execution_count": 11,
   "metadata": {},
   "outputs": [
    {
     "data": {
      "text/plain": [
       "0.8065"
      ]
     },
     "execution_count": 11,
     "metadata": {},
     "output_type": "execute_result"
    }
   ],
   "source": [
    "# examine first sentiment score\n",
    "replies_data['compound_sentiment_score'][0]"
   ]
  },
  {
   "cell_type": "code",
   "execution_count": 12,
   "metadata": {},
   "outputs": [
    {
     "data": {
      "text/plain": [
       "'Well done Australia. How good! Let’s keep it that way. We’ve seen here, and are seeing again overseas, how quickly this virus spreads, so please stay COVIDSafe. https://t.co/WcL4VytvJL'"
      ]
     },
     "execution_count": 12,
     "metadata": {},
     "output_type": "execute_result"
    }
   ],
   "source": [
    "# and look at the first text\n",
    "replies_data['full_text'][0]"
   ]
  },
  {
   "cell_type": "markdown",
   "metadata": {},
   "source": [
    "### Descriptive statistics for sentiment analysis"
   ]
  },
  {
   "cell_type": "code",
   "execution_count": 13,
   "metadata": {},
   "outputs": [
    {
     "data": {
      "text/plain": [
       "count    806.000000\n",
       "mean       0.077067\n",
       "std        0.448166\n",
       "min       -0.946100\n",
       "25%       -0.152600\n",
       "50%        0.000000\n",
       "75%        0.421500\n",
       "max        0.957000\n",
       "Name: compound_sentiment_score, dtype: float64"
      ]
     },
     "execution_count": 13,
     "metadata": {},
     "output_type": "execute_result"
    }
   ],
   "source": [
    "replies_data['compound_sentiment_score'].describe()"
   ]
  },
  {
   "cell_type": "code",
   "execution_count": 15,
   "metadata": {},
   "outputs": [
    {
     "data": {
      "text/plain": [
       "0.0"
      ]
     },
     "execution_count": 15,
     "metadata": {},
     "output_type": "execute_result"
    }
   ],
   "source": [
    "# The median will be 0 but check anyway:\n",
    "replies_data['compound_sentiment_score'].median()"
   ]
  },
  {
   "cell_type": "code",
   "execution_count": 31,
   "metadata": {},
   "outputs": [
    {
     "data": {
      "image/png": "[encoded data removed]",
      "text/plain": [
       "<Figure size 864x576 with 1 Axes>"
      ]
     },
     "metadata": {
      "needs_background": "light"
     },
     "output_type": "display_data"
    }
   ],
   "source": [
    "# Visualise histogram of sentiment scores\n",
    "from matplotlib.ticker import StrMethodFormatter\n",
    "\n",
    "ax = replies_data.hist(column='compound_sentiment_score', bins=20, grid=False, figsize=(12,8), color='#86bf91', zorder=2, rwidth=0.9)\n",
    "\n",
    "ax = ax[0]\n",
    "for x in ax:\n",
    "\n",
    "    # Despine\n",
    "    x.spines['right'].set_visible(False)\n",
    "    x.spines['top'].set_visible(False)\n",
    "    x.spines['left'].set_visible(False)\n",
    "\n",
    "    # Switch off ticks\n",
    "    x.tick_params(axis=\"both\", which=\"both\", bottom=\"off\", top=\"off\", labelbottom=\"on\", left=\"off\", right=\"off\", labelleft=\"on\")\n",
    "\n",
    "    # Draw horizontal axis lines\n",
    "    vals = x.get_yticks()\n",
    "    for tick in vals:\n",
    "        x.axhline(y=tick, linestyle='dashed', alpha=0.4, color='#eeeeee', zorder=1)\n",
    "\n",
    "    # Set title\n",
    "    x.set_title(\"Sentiment scores for @ScottMorrisonMP's COVID congratulations tweet (Tweet ID: 1322793255021420545)\")\n",
    "    \n",
    "    # Set x-axis label\n",
    "    x.set_xlabel(\"Sentiment score\", labelpad=20, weight='bold', size=12)\n",
    "\n",
    "    # Set y-axis label\n",
    "    x.set_ylabel(\"Count\", labelpad=20, weight='bold', size=12)\n",
    "\n",
    "    # Format y-axis label\n",
    "    x.yaxis.set_major_formatter(StrMethodFormatter('{x:,g}'))"
   ]
  },
  {
   "cell_type": "code",
   "execution_count": 20,
   "metadata": {},
   "outputs": [
    {
     "data": {
      "image/png": "[encoded data removed]",
      "text/plain": [
       "<Figure size 1440x720 with 1 Axes>"
      ]
     },
     "metadata": {
      "needs_background": "light"
     },
     "output_type": "display_data"
    }
   ],
   "source": [
    "# linear regression - is there a relationship between sentiment and number of likes?\n",
    "from sklearn.linear_model import LinearRegression\n",
    "\n",
    "X = replies_data['compound_sentiment_score'].values.reshape(-1, 1)  # values converts it into a numpy array\n",
    "Y = replies_data['favorite_count'].values.reshape(-1, 1)  # -1 means that calculate the dimension of rows, but have 1 column\n",
    "linear_regressor = LinearRegression()  # create object for the class\n",
    "linear_regressor.fit(X, Y)  # perform linear regression\n",
    "Y_pred = linear_regressor.predict(X)  # make predictions\n",
    "\n",
    "import matplotlib.pyplot as plt\n",
    "\n",
    "plt.figure(figsize=(20,10))\n",
    "plt.scatter(X, Y)\n",
    "plt.plot(X, Y_pred, color='red')\n",
    "plt.show()"
   ]
  },
  {
   "cell_type": "code",
   "execution_count": 22,
   "metadata": {},
   "outputs": [
    {
     "data": {
      "image/png": "[encoded data removed]",
      "text/plain": [
       "<Figure size 1440x720 with 1 Axes>"
      ]
     },
     "metadata": {
      "needs_background": "light"
     },
     "output_type": "display_data"
    }
   ],
   "source": [
    "# linear regression - is there a relationship between sentiment and number of retweets?\n",
    "from sklearn.linear_model import LinearRegression\n",
    "\n",
    "X = replies_data['compound_sentiment_score'].values.reshape(-1, 1)  # values converts it into a numpy array\n",
    "Y = replies_data['retweet_count'].values.reshape(-1, 1)  # -1 means that calculate the dimension of rows, but have 1 column\n",
    "linear_regressor = LinearRegression()  # create object for the class\n",
    "linear_regressor.fit(X, Y)  # perform linear regression\n",
    "Y_pred = linear_regressor.predict(X)  # make predictions\n",
    "\n",
    "import matplotlib.pyplot as plt\n",
    "\n",
    "plt.figure(figsize=(20,10))\n",
    "plt.scatter(X, Y)\n",
    "plt.plot(X, Y_pred, color='red')\n",
    "plt.show()"
   ]
  },
  {
   "cell_type": "code",
   "execution_count": null,
   "metadata": {},
   "outputs": [],
   "source": []
  }
 ],
 "metadata": {
  "kernelspec": {
   "display_name": "Python 3",
   "language": "python",
   "name": "python3"
  },
  "language_info": {
   "codemirror_mode": {
    "name": "ipython",
    "version": 3
   },
   "file_extension": ".py",
   "mimetype": "text/x-python",
   "name": "python",
   "nbconvert_exporter": "python",
   "pygments_lexer": "ipython3",
   "version": "3.7.3"
  }
 },
 "nbformat": 4,
 "nbformat_minor": 2
}
